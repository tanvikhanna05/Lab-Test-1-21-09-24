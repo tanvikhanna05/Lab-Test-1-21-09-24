{
 "cells": [
  {
   "cell_type": "code",
   "execution_count": 15,
   "id": "b343a01a-50d3-47dd-b8bc-189d5553a7d3",
   "metadata": {},
   "outputs": [],
   "source": [
    "import numpy as np\n",
    "import scipy as sp\n",
    "import matplotlib.pyplot as plt\n",
    "\n",
    "medicines = [\"Dolo\", \"Cold\",\"Cough\"]\n",
    "prices = [5,10,15]\n",
    "stock =[5,3,4]\n",
    "\n",
    "total_sales = []\n",
    "total_profit = []\n",
    "\n",
    "medicines = np.array(medicines)\n",
    "prices = np.array(prices)\n",
    "stock = np.array(stock)\n",
    "\n",
    "#print(medicines)\n"
   ]
  },
  {
   "cell_type": "code",
   "execution_count": 16,
   "id": "a45b9311-7b82-4df7-8031-5e60d4ff8719",
   "metadata": {},
   "outputs": [],
   "source": [
    "def print_all():\n",
    "    print(medicines)\n",
    "    print(prices)\n",
    "    print(stock)"
   ]
  },
  {
   "cell_type": "code",
   "execution_count": 17,
   "id": "be553cbc-3138-48ca-8ee5-fc2b93c32898",
   "metadata": {},
   "outputs": [],
   "source": [
    "def add_item():\n",
    "    name = input(\" Name of New Medicine : \")\n",
    "    nn = int(input(\"Enter Price of New Medicine\" ))\n",
    "    nstock = int(input(\"Enter inventory of New medicine\"))\n",
    "    medicines = np.append(medicines,name)\n",
    "    prices = np.append(prices,nn)\n",
    "    stock = np.append(stock,nstock)\n",
    "    print(\"Medicine Added\")\n",
    "    print_all()\n",
    "    "
   ]
  },
  {
   "cell_type": "code",
   "execution_count": 18,
   "id": "f8c25843-93e9-4c27-b1a7-9270a4987990",
   "metadata": {},
   "outputs": [],
   "source": [
    "def sell_item():\n",
    "    it = input(\"Which Item to buy ?\")\n",
    "    index = -1\n",
    "    for i in range(len(medicines)):\n",
    "        if medicines[i] == it:\n",
    "            index = i\n",
    "            break\n",
    "    no = int(input(\"How many to buy ? \"))\n",
    "    if no > stock[index]:\n",
    "        print(\"Cannot Sell, Not enough Stock.\")\n",
    "    else:\n",
    "        stock[index] -= no\n",
    "        total_sales.append(no)\n",
    "        total_profit.append(no*prices[index])\n",
    "    "
   ]
  },
  {
   "cell_type": "code",
   "execution_count": 21,
   "id": "e7ba2351-31cf-417e-a40b-6af36a272da0",
   "metadata": {},
   "outputs": [],
   "source": [
    "def calc():\n",
    "    for i in range(len(total_sales)):\n",
    "        print( \"Total Sale :\", total_sales[i])\n",
    "        print( \"Total Profit :\", total_profit[i])\n",
    "\n",
    "    plt.scatter(total_sales,total_profit)\n",
    "    plt.xlabel(\"Total Sales\")\n",
    "    plt.ylabel(\"Total Profit\")\n",
    "    plt.show()"
   ]
  },
  {
   "cell_type": "code",
   "execution_count": null,
   "id": "e7a1e70e-b5f8-4102-bc95-fb9fe62339fa",
   "metadata": {},
   "outputs": [
    {
     "name": "stdout",
     "output_type": "stream",
     "text": [
      "Following Operations can be performed..\n",
      "1. See all Items\n",
      "2. Add Items\n",
      "3. Sell Item\n",
      "4. Calculate current Sales and Profit\n"
     ]
    },
    {
     "name": "stdin",
     "output_type": "stream",
     "text": [
      "What operation is to be performed ? 4\n"
     ]
    },
    {
     "name": "stdout",
     "output_type": "stream",
     "text": [
      "Total Sale : 2\n",
      "Total Profit : 10\n"
     ]
    },
    {
     "data": {
      "image/png": "[encoded data removed]",
      "text/plain": [
       "<Figure size 640x480 with 1 Axes>"
      ]
     },
     "metadata": {},
     "output_type": "display_data"
    },
    {
     "name": "stdout",
     "output_type": "stream",
     "text": [
      "Following Operations can be performed..\n",
      "1. See all Items\n",
      "2. Add Items\n",
      "3. Sell Item\n",
      "4. Calculate current Sales and Profit\n"
     ]
    },
    {
     "name": "stdin",
     "output_type": "stream",
     "text": [
      "What operation is to be performed ? 1\n"
     ]
    },
    {
     "name": "stdout",
     "output_type": "stream",
     "text": [
      "['Dolo' 'Cold' 'Cough']\n",
      "[ 5 10 15]\n",
      "[3 3 4]\n",
      "Following Operations can be performed..\n",
      "1. See all Items\n",
      "2. Add Items\n",
      "3. Sell Item\n",
      "4. Calculate current Sales and Profit\n"
     ]
    }
   ],
   "source": [
    "while True:\n",
    "    print(\"Following Operations can be performed..\")\n",
    "    print(\"1. See all Items\")\n",
    "    print(\"2. Add Items\")\n",
    "    print(\"3. Sell Item\")\n",
    "    print(\"4. Calculate current Sales and Profit\")\n",
    "    num = int(input(\"What operation is to be performed ?\"))\n",
    "\n",
    "    if num==1:\n",
    "        print_all()\n",
    "    elif num==2:\n",
    "        add_item()\n",
    "    elif num==3:\n",
    "        sell_item()\n",
    "    elif num==4:\n",
    "        calc()\n",
    "    "
   ]
  },
  {
   "cell_type": "code",
   "execution_count": null,
   "id": "5ae011c9-4a37-46ba-bfb1-e110aa450b45",
   "metadata": {},
   "outputs": [],
   "source": []
  },
  {
   "cell_type": "code",
   "execution_count": null,
   "id": "9b3ae7e6-a856-4d39-9f3e-7185a8c171e6",
   "metadata": {},
   "outputs": [],
   "source": []
  }
 ],
 "metadata": {
  "kernelspec": {
   "display_name": "Python 3 (ipykernel)",
   "language": "python",
   "name": "python3"
  },
  "language_info": {
   "codemirror_mode": {
    "name": "ipython",
    "version": 3
   },
   "file_extension": ".py",
   "mimetype": "text/x-python",
   "name": "python",
   "nbconvert_exporter": "python",
   "pygments_lexer": "ipython3",
   "version": "3.12.4"
  }
 },
 "nbformat": 4,
 "nbformat_minor": 5
}
